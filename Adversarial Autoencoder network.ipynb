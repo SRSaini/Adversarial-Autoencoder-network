{
 "cells": [
  {
   "cell_type": "code",
   "execution_count": 1,
   "metadata": {
    "colab": {
     "base_uri": "https://localhost:8080/",
     "height": 118
    },
    "colab_type": "code",
    "id": "2JIGjx4KTAhN",
    "outputId": "560034f1-08b3-4b98-be0a-017086136dbe"
   },
   "outputs": [],
   "source": [
    "#from google.colab import drive\n",
    "#drive.mount('/content/gdrive')"
   ]
  },
  {
   "cell_type": "code",
   "execution_count": 0,
   "metadata": {
    "colab": {},
    "colab_type": "code",
    "id": "7cKpixAITma9"
   },
   "outputs": [],
   "source": [
    "import os\n",
    "import torch\n",
    "import torchvision\n",
    "import torch.nn as nn\n",
    "import torch.nn.functional as F\n",
    "from torchvision import transforms, datasets\n",
    "from torchvision.utils import save_image\n",
    "from torch.autograd import Variable\n",
    "import matplotlib.pyplot as plt\n",
    "import pylab\n",
    "import numpy as np\n",
    "import pandas as pd\n",
    "from sklearn.model_selection import train_test_split\n",
    "# input data\n",
    "batch_size =200\n",
    "device = torch.device(\"cuda\" if torch.cuda.is_available() else \"cpu\")"
   ]
  },
  {
   "cell_type": "code",
   "execution_count": 0,
   "metadata": {
    "colab": {
     "base_uri": "https://localhost:8080/",
     "height": 50
    },
    "colab_type": "code",
    "id": "fyZj0EHLVOLX",
    "outputId": "ee222e2f-9fba-44e2-c91a-c9d1f560ca05"
   },
   "outputs": [
    {
     "name": "stdout",
     "output_type": "stream",
     "text": [
      "Torch 1.1.0 CUDA 10.0.130\n",
      "Device: cuda:0\n"
     ]
    }
   ],
   "source": [
    "print('Torch', torch.__version__, 'CUDA', torch.version.cuda)\n",
    "print('Device:', torch.device('cuda:0'))"
   ]
  },
  {
   "cell_type": "code",
   "execution_count": 0,
   "metadata": {
    "colab": {},
    "colab_type": "code",
    "id": "kL2YsGnPUHeU"
   },
   "outputs": [],
   "source": [
    "dataset = pd.read_csv('/content/gdrive/My Drive/Colab/creditcard.csv')\n",
    "X = dataset.iloc[:,1:-1]\n",
    "Y = dataset.iloc[:,-1]\n",
    "x_train,x_test,y_train,y_test = train_test_split(X,Y,test_size=0.3,random_state=42)\n",
    "train_target = torch.tensor(y_train.values.astype(np.float32))\n",
    "train = torch.tensor(x_train.values.astype(np.float32))\n",
    "train_tensor = torch.utils.data.TensorDataset(train, train_target) \n",
    "train_loader = torch.utils.data.DataLoader(dataset = train_tensor, batch_size = batch_size, shuffle = True)\n",
    "test_target = torch.tensor(y_test.values.astype(np.float32))\n",
    "test = torch.tensor(x_test.values.astype(np.float32))\n",
    "test_tensor = torch.utils.data.TensorDataset(test, test_target) \n",
    "test_loader = torch.utils.data.DataLoader(dataset = test_tensor, batch_size = batch_size, shuffle = True)"
   ]
  },
  {
   "cell_type": "code",
   "execution_count": 0,
   "metadata": {
    "colab": {
     "base_uri": "https://localhost:8080/",
     "height": 33
    },
    "colab_type": "code",
    "id": "BwU44B9zCLaV",
    "outputId": "163a7747-95c7-4c81-d1a1-33d91077fa48"
   },
   "outputs": [
    {
     "data": {
      "text/plain": [
       "(85443, 29)"
      ]
     },
     "execution_count": 5,
     "metadata": {
      "tags": []
     },
     "output_type": "execute_result"
    }
   ],
   "source": [
    "x_test.shape"
   ]
  },
  {
   "cell_type": "code",
   "execution_count": 0,
   "metadata": {
    "colab": {},
    "colab_type": "code",
    "id": "wK2SVuwjUbCH"
   },
   "outputs": [],
   "source": [
    "#Encoder\n",
    "class Encoder_net(nn.Module):  \n",
    "    def __init__(self):\n",
    "        super(Encoder_net, self).__init__()\n",
    "        self.l1 = nn.Linear(29, 20)\n",
    "        self.l2 = nn.Linear(20, 10)\n",
    "        self.l3 = nn.Linear(10, 2)\n",
    "        \n",
    "    def forward(self, x):\n",
    "        x = F.dropout(self.l1(x), p=0.25, training=self.training)\n",
    "        x = F.elu(x)\n",
    "        x = F.dropout(self.l2(x), p=0.25, training=self.training)\n",
    "        x = F.elu(x)\n",
    "        x = self.l3(x)\n",
    "        return x\n",
    "# Decoder\n",
    "class Decoder_net(nn.Module):  \n",
    "    def __init__(self):\n",
    "        super(Decoder_net, self).__init__()\n",
    "        self.l1 = nn.Linear(2, 10)\n",
    "        self.l2 = nn.Linear(10, 20)\n",
    "        self.l3 = nn.Linear(20, 29)\n",
    "    def forward(self, x):\n",
    "        x = F.elu(self.l1(x), 0.2)\n",
    "        x = F.elu(self.l2(x), 0.2)\n",
    "        x = F.elu(self.l3(x), 0.2)\n",
    "        return torch.sigmoid(x)\n",
    "# Discriminator\n",
    "class Discriminant(nn.Module):  \n",
    "    def __init__(self):\n",
    "        super(Discriminant, self).__init__()\n",
    "        self.l1 = nn.Linear(2, 10)\n",
    "        self.l2 = nn.Linear(10, 10)\n",
    "        self.l3 = nn.Linear(10, 2)\n",
    "    def forward(self, x):\n",
    "        x = F.dropout(self.l1(x), p=0.3, training=self.training)\n",
    "        x = F.elu(x)\n",
    "        x = F.dropout(self.l2(x), p=0.3, training=self.training)\n",
    "        x = F.elu(self.l3(x))\n",
    "        return torch.sigmoid(x)\n",
    "      #F.softmax(x,dim=1)"
   ]
  },
  {
   "cell_type": "code",
   "execution_count": 0,
   "metadata": {
    "colab": {},
    "colab_type": "code",
    "id": "PgDqEQVEUpKp"
   },
   "outputs": [],
   "source": [
    "def generate_(batch_size):\n",
    "    return torch.from_numpy(np.random.multivariate_normal(mean=[2,4],cov =[[1.25,0],[0,1]],size=batch_size)).type(torch.float)\n",
    "\n",
    "encoder = Encoder_net()\n",
    "decoder = Decoder_net()\n",
    "discriminant = Discriminant()\n",
    "# learning parameter\n",
    "lr1 = 1e-1\n",
    "lr2 = 1e-3\n",
    "#encode optimizers\n",
    "optim_dec = torch.optim.Adam(decoder.parameters(), lr=lr1)\n",
    "#decode optimizers\n",
    "optim_enc = torch.optim.Adam(encoder.parameters(), lr=lr1)\n",
    "# encode regularizing optimizers\n",
    "optim_enc_gen = torch.optim.Adam(encoder.parameters(), lr=lr2)\n",
    "# discriminant regularizing optimizers\n",
    "optim_disc = torch.optim.Adam(discriminant.parameters(), lr=lr2)"
   ]
  },
  {
   "cell_type": "code",
   "execution_count": 0,
   "metadata": {
    "colab": {
     "base_uri": "https://localhost:8080/",
     "height": 505
    },
    "colab_type": "code",
    "id": "JXtA9psxUsmQ",
    "outputId": "0c36b2b2-41ca-44d5-d30b-b71cfda83762"
   },
   "outputs": [
    {
     "name": "stdout",
     "output_type": "stream",
     "text": [
      "Epoch [1/30], Step [997/997], Recon_loss is: 4.088, Discri_loss is: 0.036, accuracy: 0\n",
      "Epoch [2/30], Step [997/997], Recon_loss is: 3.215, Discri_loss is: 0.036, accuracy: 0\n",
      "Epoch [3/30], Step [997/997], Recon_loss is: 3.030, Discri_loss is: 0.036, accuracy: 0\n",
      "Epoch [4/30], Step [997/997], Recon_loss is: 2.839, Discri_loss is: 0.036, accuracy: 0\n",
      "Epoch [5/30], Step [997/997], Recon_loss is: 3.814, Discri_loss is: 0.036, accuracy: 0\n",
      "Epoch [6/30], Step [997/997], Recon_loss is: 3.184, Discri_loss is: 0.036, accuracy: 0\n",
      "Epoch [7/30], Step [997/997], Recon_loss is: 3.119, Discri_loss is: 0.036, accuracy: 0\n",
      "Epoch [8/30], Step [997/997], Recon_loss is: 3.445, Discri_loss is: 0.036, accuracy: 0\n",
      "Epoch [9/30], Step [997/997], Recon_loss is: 3.077, Discri_loss is: 0.036, accuracy: 0\n",
      "Epoch [10/30], Step [997/997], Recon_loss is: 3.644, Discri_loss is: 0.036, accuracy: 0\n",
      "Epoch [11/30], Step [997/997], Recon_loss is: 4.274, Discri_loss is: 0.036, accuracy: 0\n",
      "Epoch [12/30], Step [997/997], Recon_loss is: 2.272, Discri_loss is: 0.036, accuracy: 0\n",
      "Epoch [13/30], Step [997/997], Recon_loss is: 4.553, Discri_loss is: 0.036, accuracy: 0\n",
      "Epoch [14/30], Step [997/997], Recon_loss is: 3.893, Discri_loss is: 0.036, accuracy: 0\n",
      "Epoch [15/30], Step [997/997], Recon_loss is: 2.892, Discri_loss is: 0.036, accuracy: 0\n",
      "Epoch [16/30], Step [997/997], Recon_loss is: 4.703, Discri_loss is: 0.036, accuracy: 0\n",
      "Epoch [17/30], Step [997/997], Recon_loss is: 5.783, Discri_loss is: 0.036, accuracy: 0\n",
      "Epoch [18/30], Step [997/997], Recon_loss is: 3.889, Discri_loss is: 0.036, accuracy: 0\n",
      "Epoch [19/30], Step [997/997], Recon_loss is: 4.351, Discri_loss is: 0.036, accuracy: 0\n",
      "Epoch [20/30], Step [997/997], Recon_loss is: 2.784, Discri_loss is: 0.036, accuracy: 0\n",
      "Epoch [21/30], Step [997/997], Recon_loss is: 2.777, Discri_loss is: 0.036, accuracy: 0\n",
      "Epoch [22/30], Step [997/997], Recon_loss is: 3.025, Discri_loss is: 0.036, accuracy: 0\n",
      "Epoch [23/30], Step [997/997], Recon_loss is: 3.626, Discri_loss is: 0.036, accuracy: 0\n",
      "Epoch [24/30], Step [997/997], Recon_loss is: 3.608, Discri_loss is: 0.036, accuracy: 0\n",
      "Epoch [25/30], Step [997/997], Recon_loss is: 3.461, Discri_loss is: 0.036, accuracy: 0\n",
      "Epoch [26/30], Step [997/997], Recon_loss is: 4.023, Discri_loss is: 0.036, accuracy: 0\n",
      "Epoch [27/30], Step [997/997], Recon_loss is: 3.571, Discri_loss is: 0.036, accuracy: 0\n",
      "Epoch [28/30], Step [997/997], Recon_loss is: 2.969, Discri_loss is: 0.036, accuracy: 0\n",
      "Epoch [29/30], Step [997/997], Recon_loss is: 3.094, Discri_loss is: 0.036, accuracy: 0\n",
      "Epoch [30/30], Step [997/997], Recon_loss is: 2.508, Discri_loss is: 0.036, accuracy: 0\n"
     ]
    }
   ],
   "source": [
    "# Start training\n",
    "total_step = len(train_loader)\n",
    "diss_loss =[]\n",
    "enco_loss =[]\n",
    "accuracy = []\n",
    "num_epochs = 30\n",
    "\n",
    "loss= nn.BCELoss()\n",
    "loss1 = nn.MSELoss()\n",
    "loss2 = nn.BCEWithLogitsLoss()\n",
    "loss3 = nn.HingeEmbeddingLoss()\n",
    "loss4 = nn.SmoothL1Loss()\n",
    "loss5 = nn.SoftMarginLoss()\n",
    "loss6 = nn.CrossEntropyLoss()\n",
    "\n",
    "for epoch in range(num_epochs):\n",
    "    diss =0\n",
    "    enco =0\n",
    "    train_correct =0\n",
    "    for i ,(images,target) in enumerate(train_loader):\n",
    "        decoder.train()\n",
    "        batch_size = images.size(0)\n",
    "        images = images.view(batch_size, -1)\n",
    "        images = Variable(images,requires_grad =False)\n",
    "        #labels\n",
    "        r_labels = np.zeros(shape=(batch_size,2))\n",
    "        r_labels[:,0] =1.0\n",
    "        r_labels = torch.from_numpy(r_labels).type(torch.FloatTensor)\n",
    "        r_labels = Variable(r_labels,requires_grad=False)\n",
    "\n",
    "        f_labels = np.zeros(shape=(batch_size,2))\n",
    "        f_labels[:,1] = 1.0\n",
    "        f_labels = torch.from_numpy(f_labels).type(torch.FloatTensor)\n",
    "        f_labels = Variable(f_labels,requires_grad=False)\n",
    "\n",
    "        # set grad to zero\n",
    "        optim_dec.zero_grad()\n",
    "        optim_enc.zero_grad()\n",
    "        optim_disc.zero_grad()\n",
    "        optim_enc_gen.zero_grad()\n",
    "    \n",
    "    \n",
    "        #reconstruction loss\n",
    "        z_sample = encoder(images)   #encode to z\n",
    "        X_sample = decoder(z_sample) #decode to X reconstruction\n",
    "        recon_loss = loss4(X_sample,images) \n",
    "        train_correct1 = (r_labels == f_labels).sum()\n",
    "        #accuracy = 100 * correct / 200\n",
    "        train_correct += train_correct1\n",
    "\n",
    "        # reconstruction loss train Encoder/Decoder\n",
    "        recon_loss.backward()\n",
    "        optim_enc.step()\n",
    "        optim_dec.step()\n",
    "        decoder.eval() \n",
    "\n",
    "        # Discriminator fake/real data\n",
    "        F_data = Variable(generate_(batch_size))\n",
    "        F_prediction = discriminant(F_data)  \n",
    "        R_images = encoder(images)              \n",
    "        R_prediction = discriminant(R_images)\n",
    "\n",
    "\n",
    "\n",
    "        ## Discriminator loss train fake/real data\n",
    "        Dloss = loss4(F_prediction,f_labels) + loss4(R_prediction,r_labels)\n",
    "        Dloss.backward(retain_graph=True)\n",
    "        optim_disc.step()\n",
    "\n",
    "        ## Encoder/Generator\n",
    "        Gloss = loss4(F_prediction,f_labels) + loss4(R_prediction,r_labels)\n",
    "        Gloss.backward()\n",
    "        optim_enc_gen.step()\n",
    "        enco +=0.01*recon_loss.item()\n",
    "        diss +=0.02*Dloss.item()\n",
    "    \n",
    "        # accuracy\n",
    "        if (i+1) % 997 == 0:\n",
    "            print('Epoch [{}/{}], Step [{}/{}], Recon_loss is: {:.3f}, Discri_loss is: {:.3f}, accuracy: {}' \n",
    "                      .format(epoch+1, num_epochs, i+1, total_step, recon_loss.item(),Dloss.item(),train_correct1/200))\n",
    "    enco_loss.append(enco)\n",
    "    diss_loss.append(diss)\n",
    "    accuracy.append(train_correct*100/len(train))"
   ]
  }
 ],
 "metadata": {
  "accelerator": "GPU",
  "colab": {
   "collapsed_sections": [],
   "name": "ccard.ipynb",
   "provenance": [],
   "version": "0.3.2"
  },
  "kernelspec": {
   "display_name": "Python 3",
   "language": "python",
   "name": "python3"
  },
  "language_info": {
   "codemirror_mode": {
    "name": "ipython",
    "version": 3
   },
   "file_extension": ".py",
   "mimetype": "text/x-python",
   "name": "python",
   "nbconvert_exporter": "python",
   "pygments_lexer": "ipython3",
   "version": "3.6.8"
  }
 },
 "nbformat": 4,
 "nbformat_minor": 1
}
